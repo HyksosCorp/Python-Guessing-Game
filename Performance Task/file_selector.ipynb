{
 "nbformat": 4,
 "nbformat_minor": 2,
 "metadata": {
  "language_info": {
   "name": "python",
   "codemirror_mode": {
    "name": "ipython",
    "version": 3
   },
   "version": "3.8.2-final"
  },
  "orig_nbformat": 2,
  "file_extension": ".py",
  "mimetype": "text/x-python",
  "name": "python",
  "npconvert_exporter": "python",
  "pygments_lexer": "ipython3",
  "version": 3,
  "kernelspec": {
   "name": "python38264bit7b0eaca768d04e418628b19b38d2ee6c",
   "display_name": "Python 3.8.2 64-bit"
  }
 },
 "cells": [
  {
   "cell_type": "code",
   "execution_count": 22,
   "metadata": {},
   "outputs": [],
   "source": [
    "import pandas as pd\n",
    "import numpy as np\n",
    "game_file = \"play_list.csv\"\n",
    "ds = pd.read_csv(game_file, header=0)"
   ]
  },
  {
   "cell_type": "code",
   "execution_count": 23,
   "metadata": {},
   "outputs": [],
   "source": [
    "def category_cleaning():\n",
    "    category_list_clean = [category.casefold() for category in list(ds.columns.values) ]\n",
    "    category_list_clean\n",
    "    ds.columns = category_list_clean"
   ]
  },
  {
   "cell_type": "code",
   "execution_count": 24,
   "metadata": {},
   "outputs": [],
   "source": [
    "def generate_word(user_category):\n",
    "    game_category = ds[user_category]\n",
    "    game_word = np.random.choice(game_category)\n",
    "    return game_word"
   ]
  },
  {
   "cell_type": "code",
   "execution_count": 25,
   "metadata": {},
   "outputs": [],
   "source": [
    "def game_settings():    \n",
    "    presented_categories = list(ds[\"Categories\"])\n",
    "    cleaned_categories = [x for x in presented_categories if str(x) != 'nan']\n",
    "    print(\"Category List:\\n\" + str(cleaned_categories) + \"\\n\")\n",
    "\n",
    "    selecting = True\n",
    "    \n",
    "    while selecting:\n",
    "        try:  \n",
    "\n",
    "            i = 0\n",
    "            category_confirmation = True\n",
    "            user_category = input(\"\\nPlease select a catagory\\n\")\n",
    "            user_category = user_category.casefold()\n",
    "\n",
    "            while category_confirmation:\n",
    "\n",
    "                if user_category == str(ds[\"Categories\"][i]).casefold():\n",
    "                    print(\"Category '{}' has been selected!\".format(user_category))\n",
    "                    category_confirmation = False\n",
    "\n",
    "                    selecting = False\n",
    "                elif user_category != ds[\"Categories\"][i]:\n",
    "                    i+=1\n",
    "\n",
    "        except KeyError:\n",
    "            print(\"Category '{}' not found...\".format(user_category))\n",
    "        \n",
    "        print(\"Cleaning data...\\n\")\n",
    "        category_cleaning()\n",
    "        print(\"Data Cleaned...\\n\")\n",
    "\n",
    "        print(\"Generating Word...\\n\")\n",
    "        word = generate_word(user_category)\n",
    "        print(\"Word Generated\\n\")\n",
    "        print(word)"
   ]
  },
  {
   "cell_type": "code",
   "execution_count": 26,
   "metadata": {},
   "outputs": [
    {
     "name": "stdout",
     "output_type": "stream",
     "text": "Category List:\n['Plants', 'Animals']\n\nCategory 'plants' has been selected!\nCleaning data...\nData Cleaned...\nGenerating Word...\nWord Generated\nrose\n"
    }
   ],
   "source": [
    "game_settings()"
   ]
  },
  {
   "cell_type": "code",
   "execution_count": null,
   "metadata": {},
   "outputs": [],
   "source": []
  }
 ]
}